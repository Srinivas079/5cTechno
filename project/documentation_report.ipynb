{
 "cells": [
  {
   "cell_type": "code",
   "execution_count": null,
   "id": "2c0ac96c-e1db-43c5-911a-51ca0ceb80a3",
   "metadata": {},
   "outputs": [],
   "source": [
    "# Import necessary libraries\n",
    "import pandas as pd\n",
    "import matplotlib.pyplot as plt\n",
    "\n",
    "# Summary of the project\n",
    "project_summary = \"\"\"\n",
    "# Brain MRI Metastasis Segmentation Project\n",
    "\n",
    "## Objective\n",
    "To develop a segmentation model for brain MRI metastasis using Nested U-Net and Attention U-Net architectures.\n",
    "\n",
    "## Data\n",
    "- The dataset consists of brain MRI images and their corresponding segmentation masks.\n",
    "- Images were preprocessed, normalized, and split into training and validation sets.\n",
    "\n",
    "## Models Implemented\n",
    "- Nested U-Net\n",
    "- Attention U-Net\n",
    "\n",
    "## Performance Evaluation\n",
    "The models were evaluated using the Jaccard index (IoU) metric.\n",
    "\n",
    "### Results\n",
    "- U-Net Jaccard Index: {unet_jaccard}\n",
    "- Attention U-Net Jaccard Index: {attention_jaccard}\n",
    "\n",
    "## Training History\n",
    "Training accuracy and validation accuracy were plotted to visualize performance over epochs.\n",
    "\"\"\"\n",
    "\n",
    "# Convert results into a DataFrame\n",
    "results = {\n",
    "    \"Model\": [\"U-Net\", \"Attention U-Net\"],\n",
    "    \"Jaccard Index\": [unet_jaccard, attention_jaccard]\n",
    "}\n",
    "results_df = pd.DataFrame(results)\n",
    "\n",
    "# Save summary to a Markdown file\n",
    "with open(\"project_summary.md\", \"w\") as f:\n",
    "    f.write(project_summary)\n",
    "\n",
    "# Save results as a CSV\n",
    "results_df.to_csv(\"model_results.csv\", index=False)\n",
    "\n",
    "# Plot Jaccard Index Comparison\n",
    "plt.figure(figsize=(8, 5))\n",
    "plt.bar(results_df['Model'], results_df['Jaccard Index'], color=['blue', 'orange'])\n",
    "plt.title(\"Model Performance Comparison\")\n",
    "plt.ylabel(\"Jaccard Index\")\n",
    "plt.show()\n"
   ]
  }
 ],
 "metadata": {
  "kernelspec": {
   "display_name": "Python 3 (ipykernel)",
   "language": "python",
   "name": "python3"
  },
  "language_info": {
   "codemirror_mode": {
    "name": "ipython",
    "version": 3
   },
   "file_extension": ".py",
   "mimetype": "text/x-python",
   "name": "python",
   "nbconvert_exporter": "python",
   "pygments_lexer": "ipython3",
   "version": "3.12.4"
  }
 },
 "nbformat": 4,
 "nbformat_minor": 5
}
