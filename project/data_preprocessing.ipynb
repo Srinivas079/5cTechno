{
 "cells": [
  {
   "cell_type": "code",
   "execution_count": 1,
   "id": "2519818f-d40e-4ba3-ba31-82ce63f46dba",
   "metadata": {},
   "outputs": [],
   "source": [
    "# Import necessary libraries\n",
    "import os\n",
    "import cv2\n",
    "import numpy as np\n",
    "from glob import glob\n",
    "from sklearn.model_selection import train_test_split\n",
    "import albumentations as A\n",
    "\n",
    "# Load image and mask paths\n",
    "data_dir = r'C:\\Users\\USER\\Desktop\\5Ctech\\Data'\n",
    "image_paths = glob(os.path.join(data_dir, '**', '*.tif'), recursive=True)\n",
    "mask_paths = [img for img in image_paths if '_mask' in img]\n",
    "image_paths = [img for img in image_paths if '_mask' not in img]\n",
    "\n",
    "# Sort images and masks to align them properly\n",
    "image_paths.sort()\n",
    "mask_paths.sort()\n",
    "\n",
    "# CLAHE preprocessing function\n",
    "def clahe_preprocess(image):\n",
    "    img = cv2.imread(image, cv2.IMREAD_GRAYSCALE)\n",
    "    clahe = cv2.createCLAHE(clipLimit=2.0, tileGridSize=(8, 8))\n",
    "    cl_img = clahe.apply(img)\n",
    "    norm_img = cl_img / 255.0  # Normalize the image\n",
    "    return norm_img\n",
    "\n",
    "# Load and preprocess images and masks\n",
    "images = [clahe_preprocess(img) for img in image_paths]\n",
    "masks = [cv2.imread(mask, cv2.IMREAD_GRAYSCALE) / 255.0 for mask in mask_paths]  # Normalize masks\n",
    "\n",
    "# Train-test split\n",
    "X_train, X_test, y_train, y_test = train_test_split(images, masks, test_size=0.2, random_state=42)\n",
    "\n",
    "# Augmentation using albumentations\n",
    "augmentation = A.Compose([\n",
    "    A.HorizontalFlip(),\n",
    "    A.VerticalFlip(),\n",
    "    A.RandomRotate90(),\n",
    "])\n",
    "\n",
    "def augment_image(image, mask):\n",
    "    augmented = augmentation(image=image, mask=mask)\n",
    "    return augmented['image'], augmented['mask']\n",
    "\n",
    "# Apply augmentation on the training set\n",
    "X_train_aug = []\n",
    "y_train_aug = []\n",
    "for img, mask in zip(X_train, y_train):\n",
    "    aug_img, aug_mask = augment_image(img, mask)\n",
    "    X_train_aug.append(aug_img)\n",
    "    y_train_aug.append(aug_mask)\n",
    "\n",
    "# Optionally save the preprocessed and augmented data\n",
    "# np.save('X_train.npy', X_train_aug)\n",
    "# np.save('y_train.npy', y_train_aug)\n"
   ]
  },
  {
   "cell_type": "code",
   "execution_count": null,
   "id": "a6bc5724-32bb-4fd0-9a60-322ed6160f47",
   "metadata": {},
   "outputs": [],
   "source": []
  }
 ],
 "metadata": {
  "kernelspec": {
   "display_name": "Python 3 (ipykernel)",
   "language": "python",
   "name": "python3"
  },
  "language_info": {
   "codemirror_mode": {
    "name": "ipython",
    "version": 3
   },
   "file_extension": ".py",
   "mimetype": "text/x-python",
   "name": "python",
   "nbconvert_exporter": "python",
   "pygments_lexer": "ipython3",
   "version": "3.12.4"
  }
 },
 "nbformat": 4,
 "nbformat_minor": 5
}
