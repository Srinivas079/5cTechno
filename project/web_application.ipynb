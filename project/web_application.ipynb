{
 "cells": [
  {
   "cell_type": "code",
   "execution_count": null,
   "id": "351e98e5-a1e8-4152-9853-7cf187759981",
   "metadata": {},
   "outputs": [],
   "source": [
    "# Import necessary libraries\n",
    "import streamlit as st\n",
    "import requests\n",
    "import numpy as np\n",
    "import cv2\n",
    "from fastapi import FastAPI\n",
    "from fastapi.responses import JSONResponse\n",
    "from tensorflow.keras.models import load_model\n",
    "\n",
    "# Load the trained model\n",
    "model = load_model('unet_model.h5')  # Load the best model\n",
    "\n",
    "# FastAPI App\n",
    "app = FastAPI()\n",
    "\n",
    "@app.post(\"/predict/\")\n",
    "async def predict(image: bytes):\n",
    "    nparr = np.frombuffer(image, np.uint8)\n",
    "    img = cv2.imdecode(nparr, cv2.IMREAD_GRAYSCALE)\n",
    "    img = cv2.resize(img, (256, 256))\n",
    "    img = img.astype('float32') / 255.0\n",
    "    img = img[np.newaxis, ..., np.newaxis]  # Reshape for model input\n",
    "    \n",
    "    prediction = model.predict(img)\n",
    "    prediction = (prediction > 0.5).astype(np.uint8)  # Binarize prediction\n",
    "    return JSONResponse(content={\"prediction\": prediction.tolist()})\n",
    "\n",
    "# Streamlit app\n",
    "st.title(\"Brain MRI Metastasis Segmentation\")\n",
    "uploaded_file = st.file_uploader(\"Upload an MRI image\", type=[\"tiff\", \"png\", \"jpg\"])\n",
    "\n",
    "if uploaded_file is not None:\n",
    "    # Display uploaded image\n",
    "    image = np.array(cv2.imdecode(np.frombuffer(uploaded_file.read(), np.uint8), cv2.IMREAD_GRAYSCALE))\n",
    "    st.image(image, caption='Uploaded MRI Image', use_column_width=True)\n",
    "    \n",
    "    # Call FastAPI endpoint\n",
    "    response = requests.post(\"http://localhost:8000/predict/\", files={\"image\": uploaded_file.getvalue()})\n",
    "    \n",
    "    if response.status_code == 200:\n",
    "        prediction = np.array(response.json()['prediction'])\n",
    "        st.image(prediction.reshape(256, 256), caption='Predicted Segmentation', use_column_width=True)\n",
    "    else:\n",
    "        st.error(\"Prediction failed.\")\n"
   ]
  }
 ],
 "metadata": {
  "kernelspec": {
   "display_name": "Python 3 (ipykernel)",
   "language": "python",
   "name": "python3"
  },
  "language_info": {
   "codemirror_mode": {
    "name": "ipython",
    "version": 3
   },
   "file_extension": ".py",
   "mimetype": "text/x-python",
   "name": "python",
   "nbconvert_exporter": "python",
   "pygments_lexer": "ipython3",
   "version": "3.12.4"
  }
 },
 "nbformat": 4,
 "nbformat_minor": 5
}
