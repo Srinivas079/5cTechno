{
 "cells": [
  {
   "cell_type": "code",
   "execution_count": 7,
   "id": "dcb10bf6-1af1-4116-a82f-35f698cd4b2b",
   "metadata": {},
   "outputs": [],
   "source": [
    "import os\n",
    "import cv2\n",
    "import numpy as np\n",
    "\n"
   ]
  },
  {
   "cell_type": "code",
   "execution_count": 8,
   "id": "cb58e50b-c396-48f4-80f4-0c38beb826e6",
   "metadata": {},
   "outputs": [],
   "source": [
    "# Function to identify and validate image-mask pairs\n",
    "def validate_data(root_dir):\n",
    "    image_files = []\n",
    "    mask_files = []\n",
    "\n",
    "    # Recursively search for images and masks\n",
    "    for subdir, _, files in os.walk(root_dir):\n",
    "        for file in files:\n",
    "            if file.endswith('.tif'):\n",
    "                if \"_mask\" in file.lower():  # Identify mask files by \"_mask\" suffix\n",
    "                    mask_files.append(os.path.join(subdir, file))\n",
    "                else:\n",
    "                    image_files.append(os.path.join(subdir, file))\n",
    "\n",
    "    # Match images with their corresponding masks based on naming convention\n",
    "    valid_data = []\n",
    "    for image in image_files:\n",
    "        # Extract the base name of the image (without directory and extension)\n",
    "        image_base = os.path.splitext(os.path.basename(image))[0]\n",
    "        \n",
    "        # Look for the corresponding mask by adding \"_mask\" before the extension\n",
    "        corresponding_mask = None\n",
    "        for mask in mask_files:\n",
    "            mask_base = os.path.splitext(os.path.basename(mask))[0]\n",
    "            if mask_base == f\"{image_base}_mask\":  # Matching based on the \"_mask\" pattern\n",
    "                corresponding_mask = mask\n",
    "                break\n",
    "        \n",
    "        if corresponding_mask:\n",
    "            valid_data.append((image, corresponding_mask))\n",
    "        else:\n",
    "            print(f\"Warning: No mask found for image {image_base}\")\n",
    "\n",
    "    return valid_data"
   ]
  },
  {
   "cell_type": "code",
   "execution_count": 9,
   "id": "44129fa4-7dc2-40ec-815a-0e447d050018",
   "metadata": {},
   "outputs": [],
   "source": [
    "# Apply CLAHE preprocessing to enhance contrast\n",
    "def apply_clahe(image):\n",
    "    clahe = cv2.createCLAHE(clipLimit=2.0, tileGridSize=(8,8))\n",
    "    return clahe.apply(image)"
   ]
  },
  {
   "cell_type": "code",
   "execution_count": 10,
   "id": "c56aede6-4f38-4d33-ab10-d700d9a1c75b",
   "metadata": {},
   "outputs": [],
   "source": [
    "# Function to normalize the image\n",
    "def normalize_image(image):\n",
    "    return image / 255.0\n"
   ]
  },
  {
   "cell_type": "code",
   "execution_count": 11,
   "id": "2ed39ab0-7917-4b51-986b-a85b681d5581",
   "metadata": {},
   "outputs": [],
   "source": [
    "# Validate and get list of valid image-mask pairs\n",
    "valid_pairs = validate_data(data_path)"
   ]
  },
  {
   "cell_type": "code",
   "execution_count": null,
   "id": "b2cbb447-2481-4de7-8a9b-6e751c35d003",
   "metadata": {},
   "outputs": [],
   "source": [
    "# Preprocess the valid images and masks\n",
    "for image_path, mask_path in valid_pairs:\n",
    "    # Load image and mask\n",
    "    image = cv2.imread(image_path, cv2.IMREAD_GRAYSCALE)\n",
    "    mask = cv2.imread(mask_path, cv2.IMREAD_GRAYSCALE)\n",
    "\n",
    "    # Apply CLAHE preprocessing\n",
    "    processed_image = apply_clahe(image)\n",
    "\n",
    "    # Normalize image\n",
    "    normalized_image = normalize_image(processed_image)\n",
    "\n",
    "    # Display the processed image and mask for visual verification\n",
    "    cv2.imshow(\"Processed Image\", normalized_image)\n",
    "    cv2.imshow(\"Mask\", mask)\n",
    "    cv2.waitKey(0)  # Press any key to move to the next pair\n",
    "\n",
    "cv2.destroyAllWindows()"
   ]
  },
  {
   "cell_type": "code",
   "execution_count": null,
   "id": "94108065-5508-4ae4-9083-3a205110a616",
   "metadata": {},
   "outputs": [],
   "source": []
  }
 ],
 "metadata": {
  "kernelspec": {
   "display_name": "Python 3 (ipykernel)",
   "language": "python",
   "name": "python3"
  },
  "language_info": {
   "codemirror_mode": {
    "name": "ipython",
    "version": 3
   },
   "file_extension": ".py",
   "mimetype": "text/x-python",
   "name": "python",
   "nbconvert_exporter": "python",
   "pygments_lexer": "ipython3",
   "version": "3.12.4"
  }
 },
 "nbformat": 4,
 "nbformat_minor": 5
}
